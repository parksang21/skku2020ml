{
 "cells": [
  {
   "cell_type": "code",
   "execution_count": 1,
   "metadata": {},
   "outputs": [],
   "source": [
    "from data import get_data\n",
    "from sklearn.model_selection import StratifiedKFold\n",
    "from models import classifier\n",
    "from sklearn.metrics import f1_score, precision_score, recall_score, accuracy_score\n",
    "import numpy as np\n",
    "from sklearn import tree"
   ]
  },
  {
   "cell_type": "code",
   "execution_count": 2,
   "metadata": {},
   "outputs": [],
   "source": [
    "MODELS = ['CNN', 'SVM', 'Decision_Tree', 'Random_Forest', 'Ada_Boost']\n",
    "\n",
    "PARMAS = {\n",
    "    'SVM': [\n",
    "        {'kernel': 'rbf'},\n",
    "        {'kernel': 'linear'},\n",
    "        {'kernel': 'sigmoid'}\n",
    "    ],\n",
    "    'Decision_Tree': [\n",
    "        {'criterion': 'gini', 'max_depth': 10},\n",
    "        {'criterion': 'gini', 'max_depth': 25},\n",
    "        {'criterion': 'gini', 'max_depth': 50},\n",
    "        {'criterion': 'gini', 'max_depth': None},\n",
    "        {'criterion': 'entropy', 'max_depth': 10},\n",
    "        {'criterion': 'entropy', 'max_depth': 25},\n",
    "        {'criterion': 'entropy', 'max_depth': 50},\n",
    "        {'criterion': 'entropy', 'max_depth': None},\n",
    "    ],\n",
    "    'Random_Forest': [\n",
    "        {'n_estimators': 10},\n",
    "        {'n_estimators': 50},\n",
    "        {'n_estimators': 100},\n",
    "        {'n_estimators': 300},\n",
    "    ],\n",
    "    'Ada_Boost': [\n",
    "        {'n_estimators': 10},\n",
    "        {'n_estimators': 50},\n",
    "        {'n_estimators': 100},\n",
    "        {'n_estimators': 300},\n",
    "    ],\n",
    "    'CNN': [\n",
    "        {'epoch': 50, 'lr': 1e-1},\n",
    "        {'epoch': 50, 'lr': 1e-2},\n",
    "        {'epoch': 50, 'lr': 1e-3},\n",
    "        {'epoch': 100, 'lr': 1e-1},\n",
    "        {'epoch': 100, 'lr': 1e-2},\n",
    "        {'epoch': 100, 'lr': 1e-3},\n",
    "        {'epoch': 300, 'lr': 1e-1},\n",
    "        {'epoch': 300, 'lr': 1e-2},\n",
    "        {'epoch': 300, 'lr': 1e-3},\n",
    "    ],\n",
    "}\n"
   ]
  },
  {
   "cell_type": "code",
   "execution_count": 3,
   "metadata": {},
   "outputs": [],
   "source": [
    "def evaluation(gt, prediction):\n",
    "    return f1_score(gt, prediction), precision_score(gt, prediction), recall_score(gt, prediction), accuracy_score(gt, prediction)"
   ]
  },
  {
   "cell_type": "code",
   "execution_count": 15,
   "metadata": {},
   "outputs": [
    {
     "name": "stdout",
     "output_type": "stream",
     "text": [
      "Preparing Data\n",
      "Path : datasets/ionosphere.data\n",
      "Data is successfully loaded\n",
      "Random_Forest, params: {'n_estimators': 10}\t\t\t\t\tacc: 0.9288 precision: 0.9396, recall: 0.9526, f1: 0.945\n",
      "Random_Forest, params: {'n_estimators': 50}\t\t\t\t\tacc: 0.9316 precision: 0.9366, recall: 0.9607, f1: 0.9476\n",
      "Random_Forest, params: {'n_estimators': 100}\t\t\t\t\tacc: 0.9325 precision: 0.935, recall: 0.9639, f1: 0.9482\n",
      "Random_Forest, params: {'n_estimators': 300}\t\t\t\t\tacc: 0.9336 precision: 0.9356, recall: 0.965, f1: 0.9492\n"
     ]
    }
   ],
   "source": [
    "data, label = get_data('datasets/ionosphere.data')\n",
    "skf = StratifiedKFold(n_splits=10, shuffle=True)\n",
    "\n",
    "for m in ['Random_Forest']:\n",
    "    for p in PARMAS[m]:\n",
    "        f1_scores, precisions, recalls, accuracies = [], [], [], []\n",
    "        for i in range(10):\n",
    "            for train_index, test_index in skf.split(data, label):\n",
    "                train = [[data[idx] for idx in train_index],\n",
    "                         [label[idx] for idx in train_index]]\n",
    "                test = [[data[idx] for idx in test_index],\n",
    "                        [label[idx] for idx in test_index]]\n",
    "                # print(len(train_index))\n",
    "                prediction, gt, model = classifier(train, test, m, p)\n",
    "\n",
    "                f1, pre, rec, acc = evaluation(gt, prediction)\n",
    "                f1_scores.append(f1)\n",
    "                precisions.append(pre)\n",
    "                recalls.append(rec)\n",
    "                accuracies.append(acc)\n",
    "        print(f'{m}, params: {p}', end='\\t\\t\\t\\t\\t')\n",
    "        print('acc: {} precision: {}, recall: {}, f1: {}'.format(\n",
    "            round(np.mean(accuracies), 4), round(np.mean(precisions), 4),\n",
    "            round(np.mean(recalls), 4), round(np.mean(f1_scores), 4)\n",
    "        ))"
   ]
  },
  {
   "cell_type": "code",
   "execution_count": 16,
   "metadata": {},
   "outputs": [],
   "source": [
    "# tree.plot_tree(model)"
   ]
  },
  {
   "cell_type": "code",
   "execution_count": 18,
   "metadata": {},
   "outputs": [
    {
     "data": {
      "text/plain": [
       "RandomForestClassifier(bootstrap=True, ccp_alpha=0.0, class_weight=None,\n",
       "                       criterion='gini', max_depth=None, max_features='auto',\n",
       "                       max_leaf_nodes=None, max_samples=None,\n",
       "                       min_impurity_decrease=0.0, min_impurity_split=None,\n",
       "                       min_samples_leaf=1, min_samples_split=2,\n",
       "                       min_weight_fraction_leaf=0.0, n_estimators=300,\n",
       "                       n_jobs=None, oob_score=False, random_state=None,\n",
       "                       verbose=0, warm_start=False)"
      ]
     },
     "execution_count": 18,
     "metadata": {},
     "output_type": "execute_result"
    }
   ],
   "source": [
    "model"
   ]
  },
  {
   "cell_type": "code",
   "execution_count": 17,
   "metadata": {},
   "outputs": [
    {
     "ename": "AttributeError",
     "evalue": "'RandomForestClassifier' object has no attribute 'tree_'",
     "output_type": "error",
     "traceback": [
      "\u001b[0;31m---------------------------------------------------------------------------\u001b[0m",
      "\u001b[0;31mAttributeError\u001b[0m                            Traceback (most recent call last)",
      "\u001b[0;32m<ipython-input-17-b69b37bf2fb5>\u001b[0m in \u001b[0;36m<module>\u001b[0;34m\u001b[0m\n\u001b[1;32m      1\u001b[0m \u001b[0;32mimport\u001b[0m \u001b[0mgraphviz\u001b[0m\u001b[0;34m\u001b[0m\u001b[0;34m\u001b[0m\u001b[0m\n\u001b[0;32m----> 2\u001b[0;31m \u001b[0mdot_data\u001b[0m \u001b[0;34m=\u001b[0m \u001b[0mtree\u001b[0m\u001b[0;34m.\u001b[0m\u001b[0mexport_graphviz\u001b[0m\u001b[0;34m(\u001b[0m\u001b[0mmodel\u001b[0m\u001b[0;34m,\u001b[0m \u001b[0mout_file\u001b[0m\u001b[0;34m=\u001b[0m\u001b[0;32mNone\u001b[0m\u001b[0;34m)\u001b[0m\u001b[0;34m\u001b[0m\u001b[0;34m\u001b[0m\u001b[0m\n\u001b[0m\u001b[1;32m      3\u001b[0m \u001b[0mgraph\u001b[0m \u001b[0;34m=\u001b[0m \u001b[0mgraphviz\u001b[0m\u001b[0;34m.\u001b[0m\u001b[0mSource\u001b[0m\u001b[0;34m(\u001b[0m\u001b[0mdot_data\u001b[0m\u001b[0;34m)\u001b[0m\u001b[0;34m\u001b[0m\u001b[0;34m\u001b[0m\u001b[0m\n\u001b[1;32m      4\u001b[0m \u001b[0mgraph\u001b[0m\u001b[0;34m.\u001b[0m\u001b[0mrender\u001b[0m\u001b[0;34m(\u001b[0m\u001b[0;34m'iris'\u001b[0m\u001b[0;34m)\u001b[0m\u001b[0;34m\u001b[0m\u001b[0;34m\u001b[0m\u001b[0m\n",
      "\u001b[0;32m~/anaconda3/envs/pytorch/lib/python3.7/site-packages/sklearn/tree/_export.py\u001b[0m in \u001b[0;36mexport_graphviz\u001b[0;34m(decision_tree, out_file, max_depth, feature_names, class_names, label, filled, leaves_parallel, impurity, node_ids, proportion, rotate, rounded, special_characters, precision)\u001b[0m\n\u001b[1;32m    762\u001b[0m             \u001b[0mrounded\u001b[0m\u001b[0;34m=\u001b[0m\u001b[0mrounded\u001b[0m\u001b[0;34m,\u001b[0m \u001b[0mspecial_characters\u001b[0m\u001b[0;34m=\u001b[0m\u001b[0mspecial_characters\u001b[0m\u001b[0;34m,\u001b[0m\u001b[0;34m\u001b[0m\u001b[0;34m\u001b[0m\u001b[0m\n\u001b[1;32m    763\u001b[0m             precision=precision)\n\u001b[0;32m--> 764\u001b[0;31m         \u001b[0mexporter\u001b[0m\u001b[0;34m.\u001b[0m\u001b[0mexport\u001b[0m\u001b[0;34m(\u001b[0m\u001b[0mdecision_tree\u001b[0m\u001b[0;34m)\u001b[0m\u001b[0;34m\u001b[0m\u001b[0;34m\u001b[0m\u001b[0m\n\u001b[0m\u001b[1;32m    765\u001b[0m \u001b[0;34m\u001b[0m\u001b[0m\n\u001b[1;32m    766\u001b[0m         \u001b[0;32mif\u001b[0m \u001b[0mreturn_string\u001b[0m\u001b[0;34m:\u001b[0m\u001b[0;34m\u001b[0m\u001b[0;34m\u001b[0m\u001b[0m\n",
      "\u001b[0;32m~/anaconda3/envs/pytorch/lib/python3.7/site-packages/sklearn/tree/_export.py\u001b[0m in \u001b[0;36mexport\u001b[0;34m(self, decision_tree)\u001b[0m\n\u001b[1;32m    404\u001b[0m             \u001b[0mself\u001b[0m\u001b[0;34m.\u001b[0m\u001b[0mrecurse\u001b[0m\u001b[0;34m(\u001b[0m\u001b[0mdecision_tree\u001b[0m\u001b[0;34m,\u001b[0m \u001b[0;36m0\u001b[0m\u001b[0;34m,\u001b[0m \u001b[0mcriterion\u001b[0m\u001b[0;34m=\u001b[0m\u001b[0;34m\"impurity\"\u001b[0m\u001b[0;34m)\u001b[0m\u001b[0;34m\u001b[0m\u001b[0;34m\u001b[0m\u001b[0m\n\u001b[1;32m    405\u001b[0m         \u001b[0;32melse\u001b[0m\u001b[0;34m:\u001b[0m\u001b[0;34m\u001b[0m\u001b[0;34m\u001b[0m\u001b[0m\n\u001b[0;32m--> 406\u001b[0;31m             self.recurse(decision_tree.tree_, 0,\n\u001b[0m\u001b[1;32m    407\u001b[0m                          criterion=decision_tree.criterion)\n\u001b[1;32m    408\u001b[0m \u001b[0;34m\u001b[0m\u001b[0m\n",
      "\u001b[0;31mAttributeError\u001b[0m: 'RandomForestClassifier' object has no attribute 'tree_'"
     ]
    }
   ],
   "source": [
    "import graphviz\n",
    "dot_data = tree.export_graphviz(model, out_file=None)\n",
    "graph = graphviz.Source(dot_data)\n",
    "graph.render('iris')"
   ]
  },
  {
   "cell_type": "code",
   "execution_count": 12,
   "metadata": {},
   "outputs": [],
   "source": [
    "dot_data = tree.export_graphviz(model, out_file=None,\n",
    "                              feature_names = None,\n",
    "                              class_names = None,\n",
    "                              filled=True, rounded=True,\n",
    "                              special_characters=True)"
   ]
  },
  {
   "cell_type": "code",
   "execution_count": 14,
   "metadata": {},
   "outputs": [
    {
     "data": {
      "text/plain": [
       "'DT.pdf'"
      ]
     },
     "execution_count": 14,
     "metadata": {},
     "output_type": "execute_result"
    }
   ],
   "source": [
    "graph = graphviz.Source(dot_data)\n",
    "graph.render('DT')"
   ]
  },
  {
   "cell_type": "code",
   "execution_count": null,
   "metadata": {},
   "outputs": [],
   "source": []
  }
 ],
 "metadata": {
  "kernelspec": {
   "display_name": "Python 3.7.5 64-bit ('pytorch': conda)",
   "language": "python",
   "name": "python37564bitpytorchcondac5588bf6654242e7a290bd0cca4d568e"
  },
  "language_info": {
   "codemirror_mode": {
    "name": "ipython",
    "version": 3
   },
   "file_extension": ".py",
   "mimetype": "text/x-python",
   "name": "python",
   "nbconvert_exporter": "python",
   "pygments_lexer": "ipython3",
   "version": "3.7.5"
  }
 },
 "nbformat": 4,
 "nbformat_minor": 4
}
